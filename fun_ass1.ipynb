{
 "cells": [
  {
   "cell_type": "markdown",
   "id": "48e3dfb1-bf76-4de6-a279-7c02e8f2bb61",
   "metadata": {},
   "source": [
    "Q1. Which keyword is used to create a function? Create a function to return a list of odd numbers in the \n",
    "range of 1 to 25."
   ]
  },
  {
   "cell_type": "code",
   "execution_count": 3,
   "id": "ac2d3752-a567-41b2-ba31-92e7d83d8b8e",
   "metadata": {},
   "outputs": [
    {
     "name": "stdout",
     "output_type": "stream",
     "text": [
      "[1, 3, 5, 7, 9, 11, 13, 15, 17, 19, 21, 23, 25]\n"
     ]
    }
   ],
   "source": [
    "def get_odd_numbers():\n",
    "    odd_numbers=[]\n",
    "    for i in range(1,26):\n",
    "        if i %2 !=0:\n",
    "            odd_numbers.append(i)\n",
    "    return odd_numbers\n",
    "result=get_odd_numbers()\n",
    "print(result)"
   ]
  },
  {
   "cell_type": "markdown",
   "id": "facbc018-2787-4f7f-8276-b78dd603a816",
   "metadata": {},
   "source": [
    "Q2. Why *args and **kwargs is used in some functions? Create a function each for *args and **kwargs \n",
    "to demonstrate their use."
   ]
  },
  {
   "cell_type": "code",
   "execution_count": 1,
   "id": "85280c9a-6350-4485-bd85-e96d0c563239",
   "metadata": {},
   "outputs": [
    {
     "name": "stdout",
     "output_type": "stream",
     "text": [
      "Sum: 15\n",
      "name: Alice\n",
      "age: 30\n",
      "city: New York\n"
     ]
    }
   ],
   "source": [
    "#Ans Q2.\n",
    "\"\"\"\n",
    "*args allows a function to accept a variable number of non-keyword arguments.\n",
    "It collects these arguments into a tuple within the function.\n",
    "It is useful when you don't know in advance how many arguments will be passed to the function.\n",
    "\"\"\"\n",
    "\"\"\"\n",
    "**kwargs allows a function to accept a variable number of keyword arguments (key-value pairs).\n",
    "It collects these arguments into a dictionary within the function.\n",
    "It is useful when you want to pass a variable number of named arguments to a function.\n",
    "\"\"\"\n",
    "def calculate_sum(*args):\n",
    "    total = 0\n",
    "    for num in args:\n",
    "        total += num\n",
    "    return total\n",
    "def display_kwargs(**kwargs):\n",
    "    for key, value in kwargs.items():\n",
    "        print(f\"{key}: {value}\")\n",
    "result1 = calculate_sum(1, 2, 3, 4, 5)\n",
    "print(\"Sum:\", result1)\n",
    "\n",
    "result2 = display_kwargs(name=\"Alice\", age=30, city=\"New York\")\n"
   ]
  },
  {
   "cell_type": "markdown",
   "id": "c02e0c3d-1e74-4560-b65f-c082509c5a10",
   "metadata": {},
   "source": [
    "Q3.  What is an iterator in python? Name the method used to initialise the iterator object and the method \n",
    "used for iteration. Use these methods to print the first five elements of the given list [2, 4, 6, 8, 10, 12, 14, \n",
    "16, 18, 20]."
   ]
  },
  {
   "cell_type": "code",
   "execution_count": 2,
   "id": "bbd0d357-7a6b-4c4a-b3e6-70afb8d4c7aa",
   "metadata": {},
   "outputs": [
    {
     "name": "stdout",
     "output_type": "stream",
     "text": [
      "2\n",
      "4\n",
      "6\n",
      "8\n",
      "10\n"
     ]
    }
   ],
   "source": [
    "#Ans Q3.\n",
    "\"\"\"an iterator is an object that represents a stream of data.\n",
    "It allows you to iterate (loop) over elements in a collection (such as a list, tuple, or dictionary) one at a time,\n",
    "without loading all the data into memory at once.\n",
    "Iterators are commonly used in for loops.\n",
    "\n",
    "To work with an iterator, you typically follow these steps:\n",
    "\n",
    "1.Initialize the iterator object: You use the iter() function to create an iterator object from an iterable (e.g., a list).\n",
    "\n",
    "2.Iterate through the elements: You use the next() function to retrieve the next element from the iterator until there are no more elements left.\n",
    "\"\"\"\n",
    "my_list = [2, 4, 6, 8, 10, 12, 14, 16, 18, 20]\n",
    "my_iterator = iter(my_list)\n",
    "for _ in range(5):\n",
    "    element = next(my_iterator)\n",
    "    print(element)"
   ]
  },
  {
   "cell_type": "markdown",
   "id": "35b1d831-2e1d-49f1-9681-bc8191bf79d6",
   "metadata": {},
   "source": [
    "Q4.  What is a generator function in python? Why yield keyword is used? Give an example of a generator \n",
    "function."
   ]
  },
  {
   "cell_type": "code",
   "execution_count": 3,
   "id": "c0382727-9130-4a2b-81fa-c9e61d51c365",
   "metadata": {},
   "outputs": [
    {
     "name": "stdout",
     "output_type": "stream",
     "text": [
      "5\n",
      "4\n",
      "3\n",
      "2\n",
      "1\n"
     ]
    }
   ],
   "source": [
    "#Ans Q4.\n",
    "\n",
    "\"\"\"A generator function in Python is a special type of function that allows you to generate a sequence\n",
    "of values on-the-fly without storing them in memory all at once. This is particularly useful when dealing\n",
    "with large datasets or when you want to create an iterable that doesn't consume a lot of memory.\n",
    "\n",
    "The key feature of a generator function is the use of the yield keyword. When yield is encountered in a function,\n",
    "it doesn't return a value like the return statement does. Instead, it temporarily suspends the function's execution\n",
    "and yields the current value to the caller. The function's state is saved, allowing it to resume execution from where\n",
    "it left off the next time it's called.\"\"\"\n",
    "\n",
    "def countdown(n):\n",
    "    while n > 0:\n",
    "        yield n\n",
    "        n -= 1\n",
    "counter = countdown(5)\n",
    "for num in counter:\n",
    "    print(num)"
   ]
  },
  {
   "cell_type": "markdown",
   "id": "1fd79aa7-1b98-4526-800c-c2c8341bfdef",
   "metadata": {},
   "source": [
    "Q5. Create a generator function for prime numbers less than 1000. Use the next() method to print the \n",
    "first 20 prime numbers"
   ]
  },
  {
   "cell_type": "code",
   "execution_count": 4,
   "id": "299f7e34-c33f-4f73-9116-3889cd4098d4",
   "metadata": {},
   "outputs": [
    {
     "name": "stdout",
     "output_type": "stream",
     "text": [
      "2\n",
      "3\n",
      "5\n",
      "7\n",
      "11\n",
      "13\n",
      "17\n",
      "19\n",
      "23\n",
      "29\n",
      "31\n",
      "37\n",
      "41\n",
      "43\n",
      "47\n",
      "53\n",
      "59\n",
      "61\n",
      "67\n",
      "71\n"
     ]
    }
   ],
   "source": [
    "def is_prime(num):\n",
    "    if num <= 1:\n",
    "        return False\n",
    "    if num == 2:\n",
    "        return True\n",
    "    if num % 2 == 0:\n",
    "        return False    \n",
    "    for divisor in range(3, int(num**0.5) + 1, 2):\n",
    "        if num % divisor == 0:\n",
    "            return False\n",
    "    return True\n",
    "\n",
    "def prime_generator():\n",
    "    num = 2\n",
    "    count = 0\n",
    "    while count < 20:\n",
    "        if is_prime(num):\n",
    "            yield num\n",
    "            count += 1\n",
    "        num += 1\n",
    "\n",
    "\n",
    "prime_gen = prime_generator()\n",
    "\n",
    "\n",
    "for _ in range(20):\n",
    "    prime = next(prime_gen)\n",
    "    print(prime)\n"
   ]
  },
  {
   "cell_type": "markdown",
   "id": "7cf080a5-1d2a-4f22-949e-a5edbde1264e",
   "metadata": {},
   "source": [
    "Q6. Write a python program to print the first 10 Fibonacci numbers using a while loop"
   ]
  },
  {
   "cell_type": "code",
   "execution_count": 5,
   "id": "e92cdf8e-8e96-4984-a453-56cd3d13fa24",
   "metadata": {},
   "outputs": [
    {
     "name": "stdout",
     "output_type": "stream",
     "text": [
      "0 1 1 2 3 5 8 13 21 34 "
     ]
    }
   ],
   "source": [
    "#Ans Q6.\n",
    "a, b = 0, 1\n",
    "count = 0\n",
    "while count < 10:\n",
    "    print(a, end=' ')   \n",
    "    \n",
    "    a, b = b, a + b  \n",
    "   \n",
    "    count += 1\n"
   ]
  },
  {
   "cell_type": "markdown",
   "id": "6c1dcd70-134c-4881-b7a4-03e9d1f19094",
   "metadata": {},
   "source": [
    "Q7. Write a List Comprehension to iterate through the given string: ‘pwskills’.\n",
    "\n",
    "Expected output: ['p', 'w', 's', 'k', 'i', 'l', 'l', 's']"
   ]
  },
  {
   "cell_type": "code",
   "execution_count": 6,
   "id": "59340988-8d0a-46c1-8041-391c2d3d01c4",
   "metadata": {},
   "outputs": [
    {
     "name": "stdout",
     "output_type": "stream",
     "text": [
      "['p', 'w', 's', 'k', 'i', 'l', 'l', 's']\n"
     ]
    }
   ],
   "source": [
    "#Ans Q7.\n",
    "input_string = 'pwskills'\n",
    "output_list = [char for char in input_string]\n",
    "print(output_list)\n"
   ]
  },
  {
   "cell_type": "markdown",
   "id": "ffc75b73-fb19-45f4-b8d8-746b36fc22e5",
   "metadata": {},
   "source": [
    "Q8. Write a python program to check whether a given number is Palindrome or not using a while loop."
   ]
  },
  {
   "cell_type": "code",
   "execution_count": 7,
   "id": "c943eacc-162b-4185-98c2-8e04fac16489",
   "metadata": {},
   "outputs": [
    {
     "name": "stdin",
     "output_type": "stream",
     "text": [
      "Enter a number:  1222221\n"
     ]
    },
    {
     "name": "stdout",
     "output_type": "stream",
     "text": [
      "1222221 is a palindrome.\n"
     ]
    }
   ],
   "source": [
    "def is_palindrome(number):\n",
    "    original_number = number\n",
    "    reversed_number = 0\n",
    "    \n",
    "    while number > 0:\n",
    "        digit = number % 10\n",
    "        reversed_number = reversed_number * 10 + digit\n",
    "        number = number // 10\n",
    "    \n",
    "    return original_number == reversed_number\n",
    "\n",
    "num = int(input(\"Enter a number: \"))\n",
    "if is_palindrome(num):\n",
    "    print(f\"{num} is a palindrome.\")\n",
    "else:\n",
    "    print(f\"{num} is not a palindrome.\")\n"
   ]
  },
  {
   "cell_type": "markdown",
   "id": "1d5fdfa7-645b-4d58-8709-077fdeaab382",
   "metadata": {},
   "source": [
    "Q9. Write a code to print odd numbers from 1 to 100 using list comprehension."
   ]
  },
  {
   "cell_type": "code",
   "execution_count": 8,
   "id": "abbcc3e5-e66e-431a-9b2d-7b8c7164ace0",
   "metadata": {},
   "outputs": [
    {
     "name": "stdout",
     "output_type": "stream",
     "text": [
      "[1, 3, 5, 7, 9, 11, 13, 15, 17, 19, 21, 23, 25, 27, 29, 31, 33, 35, 37, 39, 41, 43, 45, 47, 49, 51, 53, 55, 57, 59, 61, 63, 65, 67, 69, 71, 73, 75, 77, 79, 81, 83, 85, 87, 89, 91, 93, 95, 97, 99]\n"
     ]
    }
   ],
   "source": [
    "odd_numbers = [num for num in range(1, 101) if num % 2 != 0]\n",
    "print(odd_numbers)\n"
   ]
  },
  {
   "cell_type": "code",
   "execution_count": null,
   "id": "f2b3c4bd-dc26-45d3-a816-4afc800364c0",
   "metadata": {},
   "outputs": [],
   "source": []
  }
 ],
 "metadata": {
  "kernelspec": {
   "display_name": "Python 3 (ipykernel)",
   "language": "python",
   "name": "python3"
  },
  "language_info": {
   "codemirror_mode": {
    "name": "ipython",
    "version": 3
   },
   "file_extension": ".py",
   "mimetype": "text/x-python",
   "name": "python",
   "nbconvert_exporter": "python",
   "pygments_lexer": "ipython3",
   "version": "3.10.8"
  }
 },
 "nbformat": 4,
 "nbformat_minor": 5
}
